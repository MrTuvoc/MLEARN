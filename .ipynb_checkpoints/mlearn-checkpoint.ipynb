{
 "cells": [
  {
   "cell_type": "code",
   "execution_count": 9,
   "id": "c6093ab2",
   "metadata": {},
   "outputs": [],
   "source": [
    "#import\n",
    "import pandas as pd\n",
    "import joblib\n",
    "from sklearn.tree import DecisionTreeClassifier\n",
    "from sklearn.model_selection import train_test_split\n",
    "from sklearn.metrics import accuracy_score\n",
    "from sklearn import tree"
   ]
  },
  {
   "cell_type": "code",
   "execution_count": 52,
   "id": "2ce407b3",
   "metadata": {},
   "outputs": [
    {
     "data": {
      "text/plain": [
       "0.75"
      ]
     },
     "execution_count": 52,
     "metadata": {},
     "output_type": "execute_result"
    }
   ],
   "source": [
    "# prediction / training function\n",
    "def predict(age,gender):\n",
    "\tmusic_data = pd.read_csv('music.csv')\n",
    "\tX = music_data.drop(columns=['genre'])\n",
    "\ty = music_data['genre']\n",
    "\tX_train, X_test, y_train, y_test = train_test_split(X,y,test_size=0.8)\n",
    "\tmodel = DecisionTreeClassifier()\n",
    "\tmodel.fit(X_train,y_train)\n",
    "\t# output model\n",
    "\tjoblib.dump(model,'music-predict.joblib')\n",
    "\t# load model instead of training everytime\n",
    "\t#model = joblib.load('music-predict.joblib')\n",
    "\t# output visualization\n",
    "\ttree.export_graphviz(model,out_file='music-predict.dot',feature_names=['age','gender'],class_names=sorted(y.unique()),label='all',rounded=True,filled=True)\n",
    "\tpred = model.predict(X_test) # full array of predictions\n",
    "    score = accuracy_score(y_test,pred) # AI accuracy score\n",
    "    return model.predict([[str(age),str(gender)]])"
   ]
  },
  {
   "cell_type": "code",
   "execution_count": 9,
   "id": "bcfe408c",
   "metadata": {},
   "outputs": [],
   "source": [
    "# input/output function\n",
    "def take():\n",
    "    f=['FEMALE','F','FEM','GIRL','WOMAN']\n",
    "    m=['MALE','M','MASC','GUY','MAN']\n",
    "    age = input(\"Age? \")\n",
    "    gen = input(\"Gender? \")\n",
    "    if gen.upper() in f:\n",
    "        gender = 0\n",
    "    elif gen.upper() in m:\n",
    "        gender = 1\n",
    "    print(\"If I know people well i think you like \",''.join(predict(age,gender)))"
   ]
  }
 ],
 "metadata": {
  "kernelspec": {
   "display_name": "Python 3 (ipykernel)",
   "language": "python",
   "name": "python3"
  },
  "language_info": {
   "codemirror_mode": {
    "name": "ipython",
    "version": 3
   },
   "file_extension": ".py",
   "mimetype": "text/x-python",
   "name": "python",
   "nbconvert_exporter": "python",
   "pygments_lexer": "ipython3",
   "version": "3.9.13"
  }
 },
 "nbformat": 4,
 "nbformat_minor": 5
}
